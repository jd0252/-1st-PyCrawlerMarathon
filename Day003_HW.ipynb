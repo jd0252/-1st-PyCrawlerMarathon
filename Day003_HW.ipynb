#!/usr/bin/env python
# coding: utf-8

# # Python 下載XML檔案與解析
# 
# 
# * 了解 xml 檔案格式與內容
# * 能夠利用套件存取 xml 格式的檔案
# 

# ## 作業目標
# 
# * 比較一下範例檔案中的「File I/O」與「xmltodict」讀出來的內容有什麼差異
# 
# * 根據範例檔案的結果：
#     1. 請問高雄市有多少地區有溫度資料？
#     2. 請取出每一個地區所記錄的第一個時間點跟溫度
#     3. 請取出第一個地區所記錄的每一個時間點跟溫度

# ### 比較一下範例檔案中的「File I/O」與「xmltodict」讀出來的內容有什麼差異
# 

# In[1]:


#File I/O 讀取的是原始含有標籤的xml檔案；xmltodict會把所有資料用一個大字典包起來，相同層級的子標籤用元祖和列表來表示，整體就像是一個json檔案
#File I/O
with open('./Documents/64_72hr_CH.xml', 'r', encoding='utf-8') as f:
    xml = f.read()

print(xml)


# In[2]:


pip install xmltodict


# ### 根據範例檔案的結果：
# 
# 1. 請問高雄市有多少地區有溫度資料？
# 2. 請取出每一個地區所記錄的第一個時間點跟溫度
# 3. 請取出第一個地區所記錄的每一個時間點跟溫度

# In[3]:


import xmltodict
# 1. 請問高雄市有多少地區有溫度資料？
d = dict(xmltodict.parse(xml))
k = d['cwbopendata']['dataset']['locations']['location']
print(len(k))


# In[4]:


# 2. 請取出每一個地區所記錄的第一個時間點跟溫度
for i in k:
    print(i['locationName'])
    print(i['weatherElement'][0]['time'][0]['dataTime'])
    print(i['weatherElement'][0]['time'][0]['elementValue']['value'])


# In[5]:


# 3. 請取出第一個地區所記錄的每一個時間點跟溫度
# for i in k[0]:
#     print(i['locationName'])
#     print(i['weatherElement']['time']['dataTime'])
#     print(i['weatherElement']['time']['elementValue']['value'])

print(k[0]['locationName'])
for z in k[0]['weatherElement']:
    for y in z['time']:
        print(y['dataTime'])
        print(y['elementValue']['value'])


# In[ ]:




