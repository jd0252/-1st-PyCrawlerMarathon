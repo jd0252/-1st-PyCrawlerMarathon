{
 "cells": [
  {
   "cell_type": "markdown",
   "metadata": {},
   "source": [
    "# 其他工具：Grab、PyQuery\n",
    "\n",
    "\n",
    "* 利用 Grab 套件的存取 HTML 資源\n",
    "* 利用 PyQuery 套件的解析 HTML 格式\n"
   ]
  },
  {
   "cell_type": "markdown",
   "metadata": {},
   "source": [
    "## 作業目標\n",
    "\n",
    "將之前用 requests + beatifulsoup 實作的方式，改寫成 grab + pyquery，並且比較有哪些地方不同。\n",
    "\n",
    "\n",
    "\n"
   ]
  },
  {
   "cell_type": "markdown",
   "metadata": {},
   "source": [
    "## requests + BeautifulSoup\n"
   ]
  },
  {
   "cell_type": "code",
   "execution_count": 5,
   "metadata": {},
   "outputs": [
    {
     "name": "stdout",
     "output_type": "stream",
     "text": [
      "<class 'bs4.BeautifulSoup'>\n",
      "#更 小隻女一件襯衫多種穿法\n",
      "更/ 男友說:「不想再當我男友了…」\n",
      "大家敲碗的後續（西斯慎入\n",
      "鑽石公主號是防疫的最大漏洞\n",
      "女生都隔多久洗澡\n",
      "這次武漢肺炎看出台灣的人情冷暖\n",
      "UNIQLO素T\n",
      "室友硬上攻2 (二更\n",
      "吹哨人的死，讓中國人覺醒了？\n",
      "原來牽新車可以脫魯的傳說是真的\n",
      "從口罩體會到家人的自私\n",
      "更#微西斯 男友的奇葩事蹟\n",
      "終於做了小陰唇整形手術！！\n",
      "台灣真的很美好，為什麼大家都感覺不到\n",
      "感情需要兩人一起努力\n",
      "地表最強敗犬\n",
      "#心情 疑似遇到台商家屬\n",
      "［死亡車禍］徵求行車記錄器畫面：2/7（五）雲林 二崙鄉三和村18張犁二號橋 產業道路\n",
      "UQ $590 九分喇叭褲\n",
      "衛福編編的手好看到拿來宣傳？!\n",
      "女醫生發起連署守護台灣醫療資源\n",
      "李文亮醫生其實也算得報應\n",
      "一分鐘介紹如何讓面試官印象深刻？\n"
     ]
    }
   ],
   "source": [
    "import requests\n",
    "from bs4 import BeautifulSoup\n",
    "\n",
    "url = 'https://www.dcard.tw/f'\n",
    "r = requests.get(url)\n",
    "r.encoding = 'utf-8'\n",
    "\n",
    "soup = BeautifulSoup(r.text, \"html5lib\")\n",
    "print(type(soup))\n",
    "# print(soup.prettify())\n",
    "\n",
    "posts = soup.find_all('a', class_='PostEntry_root_V6g0rd')\n",
    "for post in posts:\n",
    "    post_title = post.find('h3', class_='Title__Text-v196i6-0 gmfDU')\n",
    "    if post_title:\n",
    "        print(post_title.text)"
   ]
  },
  {
   "cell_type": "markdown",
   "metadata": {},
   "source": [
    "## Grab + PyQuery"
   ]
  },
  {
   "cell_type": "code",
   "execution_count": 12,
   "metadata": {
    "scrolled": false
   },
   "outputs": [
    {
     "data": {
      "text/plain": [
       "bytes"
      ]
     },
     "execution_count": 12,
     "metadata": {},
     "output_type": "execute_result"
    }
   ],
   "source": [
    "\n",
    "from grab import Grab\n",
    "\n",
    "url = 'https://www.dcard.tw/f'\n",
    "\n",
    "g = Grab()\n",
    "resp = g.go(url)\n",
    "type(resp.body)"
   ]
  },
  {
   "cell_type": "code",
   "execution_count": 13,
   "metadata": {},
   "outputs": [
    {
     "data": {
      "text/plain": [
       "[<a.PostEntry_root_V6g0rd>, <a.PostEntry_root_V6g0rd>, <a.PostEntry_root_V6g0rd>, <a.PostEntry_root_V6g0rd>, <a.PostEntry_root_V6g0rd>, <a.PostEntry_root_V6g0rd>, <a.PostEntry_root_V6g0rd>, <a.PostEntry_root_V6g0rd>, <a.PostEntry_root_V6g0rd>, <a.PostEntry_root_V6g0rd>, <a.PostEntry_root_V6g0rd>, <a.PostEntry_root_V6g0rd>, <a.PostEntry_root_V6g0rd>, <a.PostEntry_root_V6g0rd>, <a.PostEntry_root_V6g0rd>, <a.PostEntry_root_V6g0rd>, <a.PostEntry_root_V6g0rd>, <a.PostEntry_root_V6g0rd>, <a.PostEntry_root_V6g0rd>, <a.PostEntry_root_V6g0rd>, <a.PostEntry_root_V6g0rd>, <a.PostEntry_root_V6g0rd>, <a.PostEntry_root_V6g0rd>, <a.PostEntry_root_V6g0rd>, <a.PostEntry_root_V6g0rd>, <a.PostEntry_root_V6g0rd>, <a.PostEntry_root_V6g0rd>, <a.PostEntry_root_V6g0rd>, <a.PostEntry_root_V6g0rd>, <a.PostEntry_root_V6g0rd>, <a.PostEntry_root_V6g0rd>, <a.PostEntry_root_V6g0rd>, <a.PostEntry_root_V6g0rd>]"
      ]
     },
     "execution_count": 13,
     "metadata": {},
     "output_type": "execute_result"
    }
   ],
   "source": [
    "from pyquery import PyQuery as pq\n",
    "doc = pq(resp.body)\n",
    "\n",
    "main = doc('a.PostEntry_root_V6g0rd')\n",
    "main"
   ]
  },
  {
   "cell_type": "code",
   "execution_count": 14,
   "metadata": {},
   "outputs": [
    {
     "name": "stdout",
     "output_type": "stream",
     "text": [
      "感謝不斷電⚡️守護台灣的你們辛苦了，Dcard 打氣文募集中！\n",
      "#更 小隻女一件襯衫多種穿法\n",
      "更/ 男友說:「不想再當我男友了…」\n",
      "大家敲碗的後續（西斯慎入\n",
      "不怕久坐肩頸頂扣扣💪🏻『養身暖暖貼』 秋冬保養超easy‼️ 暖到不需要另一半來溫暖你\n",
      "鑽石公主號是防疫的最大漏洞\n",
      "情人節買不起iphone11怎麼辦\n",
      "女生都隔多久洗澡\n",
      "這次武漢肺炎看出台灣的人情冷暖\n",
      "🙋‍♀️永別了痘痘👋BFFECT抗痘+保濕精華液👉不再迷信偏方，用專業科學對抗痘痘才是王道🔥\n",
      "氛圍十分不一樣的IU、燦烈姐弟.jpg\n",
      "UNIQLO素T\n",
      "室友硬上攻2 (二更\n",
      "呵護妹妹的健康😘Relove 私密處潔淨精華凝露💧打抗所有分泌物、臭臭和細菌👊\n",
      "吹哨人的死，讓中國人覺醒了？\n",
      "全球第一間Cheese主題飯店！！！\n",
      "#圖 分享午後時光日常妝容🧡\n",
      "原來牽新車可以脫魯的傳說是真的\n",
      "從口罩體會到家人的自私\n",
      "更#微西斯 男友的奇葩事蹟\n",
      "終於做了小陰唇整形手術！！\n",
      "台灣真的很美好，為什麼大家都感覺不到\n",
      "髮質立刻變好的秘密-diy資生堂水質感燙+日常保養\n",
      "感情需要兩人一起努力\n",
      "地表最強敗犬\n",
      "#心情 疑似遇到台商家屬\n",
      "［死亡車禍］徵求行車記錄器畫面：2/7（五）雲林 二崙鄉三和村18張犁二號橋 產業道路\n",
      "馬丁鞋開箱+穿搭\n",
      "UQ $590 九分喇叭褲\n",
      "衛福編編的手好看到拿來宣傳？!\n",
      "女醫生發起連署守護台灣醫療資源\n",
      "李文亮醫生其實也算得報應\n",
      "一分鐘介紹如何讓面試官印象深刻？\n"
     ]
    }
   ],
   "source": [
    "for i in range(main.size()):\n",
    "    print(main.eq(i).find('h3').text())"
   ]
  },
  {
   "cell_type": "code",
   "execution_count": null,
   "metadata": {},
   "outputs": [],
   "source": []
  }
 ],
 "metadata": {
  "kernelspec": {
   "display_name": "Python 3",
   "language": "python",
   "name": "python3"
  },
  "language_info": {
   "codemirror_mode": {
    "name": "ipython",
    "version": 3
   },
   "file_extension": ".py",
   "mimetype": "text/x-python",
   "name": "python",
   "nbconvert_exporter": "python",
   "pygments_lexer": "ipython3",
   "version": "3.7.4"
  }
 },
 "nbformat": 4,
 "nbformat_minor": 2
}
