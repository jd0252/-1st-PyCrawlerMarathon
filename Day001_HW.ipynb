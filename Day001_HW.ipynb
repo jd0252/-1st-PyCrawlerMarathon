{
 "cells": [
  {
   "cell_type": "markdown",
   "metadata": {},
   "source": [
    "## 作業目標\n",
    "\n",
    "* 1.（簡答題）檔案、API、爬蟲三種取得資料方式有什麼不同？\n",
    "* 2.（實作）完成一個程式，需滿足下列需求：\n",
    "    * 下載指定檔案到 Data 資料夾，存成檔名 Homework.txt\n",
    "    * 檢查 Data 資料夾是否有 Homework.txt 檔名之檔案\n",
    "    * 將「Hello World」字串覆寫到 Homework.txt 檔案\n",
    "    * 檢查 Homework.txt 檔案字數是否符合 Hello World 字數\n"
   ]
  },
  {
   "cell_type": "markdown",
   "metadata": {},
   "source": [
    "### 1.（簡答題）檔案、API、爬蟲三種取得資料方式有什麼不同？"
   ]
  },
  {
   "cell_type": "markdown",
   "metadata": {},
   "source": [
    "Ans:檔案&API是由資料擁有者主動釋出，爬蟲則是資料擁有者被動公開"
   ]
  },
  {
   "cell_type": "markdown",
   "metadata": {},
   "source": [
    "### 2.（實作）完成一個程式，需滿足下列需求：\n",
    "    * 下載指定檔案到 Data 資料夾，存成檔名 Homework.txt\n",
    "    * 檢查 Data 資料夾是否有 Homework.txt 檔名之檔案\n",
    "    * 將「Hello World」字串覆寫到 Homework.txt 檔案\n",
    "    * 檢查 Homework.txt 檔案字數是否符合 Hello World 字數\n"
   ]
  },
  {
   "cell_type": "code",
   "execution_count": 12,
   "metadata": {},
   "outputs": [],
   "source": [
    "# 根據需求引入正確的 Library\n",
    "\n",
    "from urllib.request import urlretrieve\n",
    "import os\n",
    "\n",
    "# 下載檔案到 Data 資料夾，存成檔名 Homework.txt\n",
    "\n",
    "try:\n",
    "    os.makedirs( './Data', exist_ok=True )\n",
    "\n",
    "    urlretrieve (\"http://pycrawler.cupoy.com/file-download/part01/example.zip\", \"./data/Homework.txt\")\n",
    "except:\n",
    "    print('發生錯誤！')"
   ]
  },
  {
   "cell_type": "code",
   "execution_count": 16,
   "metadata": {},
   "outputs": [
    {
     "name": "stdout",
     "output_type": "stream",
     "text": [
      "[O] 檢查 Data 資料夾是否有 Homework.txt 檔名之檔案\n"
     ]
    }
   ],
   "source": [
    "# 檢查 Data 資料夾是否有 Homework.txt 檔名之檔案\n",
    "\n",
    "files = []\n",
    "\n",
    "dirs = os.listdir( './data' )\n",
    "\n",
    "for file in dirs:\n",
    "    files.append(file)\n",
    "\n",
    "if 'Homework.txt' in files:\n",
    "    print('[O] 檢查 Data 資料夾是否有 Homework.txt 檔名之檔案')\n",
    "else:\n",
    "    print('[X] 檢查 Data 資料夾是否有 Homework.txt 檔名之檔案')"
   ]
  },
  {
   "cell_type": "code",
   "execution_count": 13,
   "metadata": {},
   "outputs": [
    {
     "name": "stdout",
     "output_type": "stream",
     "text": [
      "11\n",
      "Hello World\n"
     ]
    }
   ],
   "source": [
    "# 將「Hello World」字串覆寫到 Homework.txt 檔案\n",
    "\n",
    "f = ''\n",
    "\n",
    "with open(\"./Data/Homework.txt\", \"w\") as fh:\n",
    "    \n",
    "    f=fh.write(\"Hello World\")\n",
    "    print(f)\n",
    "try:\n",
    "    with open(\"./Data/Homework.txt\", \"r\") as fh:\n",
    "        \n",
    "        f=fh.read()\n",
    "        print(f)\n",
    "except EnvironmentError: # parent of IOError, OSError *and* WindowsError where available\n",
    "    pass    "
   ]
  },
  {
   "cell_type": "code",
   "execution_count": 7,
   "metadata": {
    "scrolled": true
   },
   "outputs": [
    {
     "name": "stdout",
     "output_type": "stream",
     "text": [
      "[X] 檢查 Homework.txt 檔案字數是否符合 Hello World 字數\n"
     ]
    }
   ],
   "source": [
    "# 檢查 Homework.txt 檔案字數是否符合 Hello World 字數\n",
    "\n",
    "if len('Hello World') == len(f):\n",
    "    print('[O] 檢查 Homework.txt 檔案字數是否符合 Hello World 字數')\n",
    "else:\n",
    "    print('[X] 檢查 Homework.txt 檔案字數是否符合 Hello World 字數')"
   ]
  }
 ],
 "metadata": {
  "kernelspec": {
   "display_name": "Python 3",
   "language": "python",
   "name": "python3"
  },
  "language_info": {
   "codemirror_mode": {
    "name": "ipython",
    "version": 3
   },
   "file_extension": ".py",
   "mimetype": "text/x-python",
   "name": "python",
   "nbconvert_exporter": "python",
   "pygments_lexer": "ipython3",
   "version": "3.7.1"
  }
 },
 "nbformat": 4,
 "nbformat_minor": 2
}
