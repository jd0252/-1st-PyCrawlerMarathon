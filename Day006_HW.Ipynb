#!/usr/bin/env python
# coding: utf-8

# # API 資料串接 - 以 知乎 API 實作範例
# 
# 
# 
# * 了解知乎 API 使用方式與回傳內容
# * 撰寫程式存取 API 且添加標頭
# 
# 
# 

# ## 作業目標
# 
# * 根據範例提供的 API ，完成以下問題：
# 
#     1. 取出知乎問題發問時間
#     2. 取出第一筆與最後一筆回答的時間
# 

# ### 1. 取出知乎問題發問時間

# In[2]:


# 1. 取出知乎問題發問時間

import requests
import json
import time
import pandas as pd
headers = {'user-agent': 'my-app/0.0.1'}
res = requests.get('https://www.zhihu.com/api/v4/questions/55493026/answers',headers=headers)
js = json.loads(res.text)
# print(js['data'])

items = js['data'][0]
que = items['question']
for item in que.keys():
    cTime = que['created']
    if cTime:
        print(time.ctime(cTime))
        break


# ### 2. 取出第一筆與最後一筆回答的時間

# In[3]:


# 2. 取出第一筆與最後一筆回答的時間
timeList = []
for items in js['data']:
    timeList.append(items['created_time'])
timeList.sort()
print("第一筆回答的時間:",time.ctime(timeList[0]))
print("最後一筆回答的時間:",time.ctime(timeList[len(timeList)-1]))

