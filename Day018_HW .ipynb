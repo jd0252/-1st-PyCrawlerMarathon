{
 "cells": [
  {
   "cell_type": "markdown",
   "metadata": {},
   "source": [
    "# 瀏覽器開發者工具介紹\n",
    "\n",
    "\n",
    "* 知道瀏覽器的開發者工具\n",
    "* 能夠使用瀏覽器的開發者工具觀察資料\n"
   ]
  },
  {
   "cell_type": "markdown",
   "metadata": {},
   "source": [
    "## 作業目標\n",
    "\n",
    "利用開發者工具去尋找「 https://www.zhihu.com/explore 」和「 http://aicoin.cn 」網站的 HTTP 網址，以及他所帶的 Headers 分別是哪些，試著用 request 去發送有沒有帶 Headers 的差異。\n"
   ]
  },
  {
   "cell_type": "markdown",
   "metadata": {},
   "source": [
    "### 1. https://www.zhihu.com/explore "
   ]
  },
  {
   "cell_type": "code",
   "execution_count": 1,
   "metadata": {
    "scrolled": true
   },
   "outputs": [
    {
     "name": "stdout",
     "output_type": "stream",
     "text": [
      "<html>\r\n",
      "<head><title>400 Bad Request</title></head>\r\n",
      "<body bgcolor=\"white\">\r\n",
      "<center><h1>400 Bad Request</h1></center>\r\n",
      "<hr><center>openresty</center>\r\n",
      "</body>\r\n",
      "</html>\r\n",
      "\n"
     ]
    }
   ],
   "source": [
    "import requests\n",
    "url = 'https://www.zhihu.com/explore'\n",
    "r = requests.get(url)\n",
    "r.encoding = 'utf-8'\n",
    "print(r.text)"
   ]
  },
  {
   "cell_type": "markdown",
   "metadata": {},
   "source": [
    "<img src=\"2.jpg\" style=\"width:1600px;height:1600px\"/>"
   ]
  },
  {
   "cell_type": "code",
   "execution_count": 3,
   "metadata": {},
   "outputs": [
    {
     "name": "stdout",
     "output_type": "stream",
     "text": [
      "<!doctype html><html data-theme=\"light\" lang=\"zh\" data-reactroot=\"\"><head><meta charset=\"utf-8\"/><meta name=\"viewport\" content=\"width=device-width,initial-scale=1,maximum-scale=1,viewport-fit=cover\"/><title data-react-helmet=\"true\"></title><meta name=\"description\" content=\"有问题，上知乎。知乎，可信赖的问答社区，以让每个人高效获得可信赖的解答为使命。知乎凭借认真、专业和友善的社区氛围，结构化、易获得的优质内容，基于问答的内容生产方式和独特的社区机制，吸引、聚集了各行各业中大量的亲历者、内行人、领域专家、领域爱好者，将高质量的内容透过人的节点来成规模地生产和分享。用户通过问答等交流方式建立信任和连接，打造和提升个人影响力，并发现、获得新机会。\"/><link rel=\"shortcut icon\" type=\"image/x-icon\" href=\"https://static.zhihu.com/static/favicon.ico\"/><link rel=\"stylesheet\" href=\"https://s\n"
     ]
    }
   ],
   "source": [
    "import requests\n",
    "url = 'http://www.zhihu.com'\n",
    "\n",
    "headers = {\n",
    "    'authority':'www.zhihu.com',\n",
    "    'method': 'GET',\n",
    "    'path':'/',\n",
    "    'scheme': 'https',\n",
    "    'accept': 'text/html,application/xhtml+xml,application/xml;q=0.9,image/webp,image/apng,*/*;q=0.8,application/signed-exchange;v=b3;q=0.9',\n",
    "    'accept-encoding': 'gzip, deflate, br',\n",
    "    'accept-language': 'zh-TW,zh;q=0.9,en-US;q=0.8,en;q=0.7,ja;q=0.6',\n",
    "    'cookie': '_zap=db9f34b4-d5e7-4de5-8f2f-95a926b455c1; _xsrf=64985471-cb5f-4a68-8aae-4ddbbb314beb; d_c0=\"ALBYyMD4zRCPTuXZVFuWyhlakYH6ynG3H0Q=|1581480433\"; SL_GWPT_Show_Hide_tmp=1; SL_wptGlobTipTmp=1; Hm_lvt_98beee57fd2ef70ccdd5ca52b9740c49=1581480432,1581481331; Hm_lpvt_98beee57fd2ef70ccdd5ca52b9740c49=1581481331; KLBRSID=ed2ad9934af8a1f80db52dcb08d13344|1581505001|1581505001',\n",
    "    'referer': 'https://www.zhihu.com/explore',\n",
    "    'sec-fetch-mode': 'navigate',\n",
    "    'sec-fetch-site': 'same-origin',\n",
    "    'sec-fetch-user': '?1',\n",
    "    'upgrade-insecure-requests': '1',\n",
    "    'user-agent': 'Mozilla/5.0 (Linux; Android 6.0; Nexus 5 Build/MRA58N) AppleWebKit/537.36 (KHTML, like Gecko) Chrome/79.0.3945.130 Mobile Safari/537.36'}\n",
    "\n",
    "r = requests.get(url, headers=headers)\n",
    "print(r.text[0:600])"
   ]
  },
  {
   "cell_type": "markdown",
   "metadata": {},
   "source": [
    "### 2. http://aicoin.cn"
   ]
  },
  {
   "cell_type": "code",
   "execution_count": null,
   "metadata": {
    "scrolled": true
   },
   "outputs": [],
   "source": [
    "import requests\n",
    "\n",
    "url = 'http://aicoin.cn/'\n",
    "r = requests.get(url)\n",
    "r.encoding = 'utf-8'\n",
    "print(r.text)"
   ]
  },
  {
   "cell_type": "markdown",
   "metadata": {},
   "source": [
    "<img src=\"1.jpg\" style=\"width:1600px;height:1600px\"/>"
   ]
  },
  {
   "cell_type": "code",
   "execution_count": 4,
   "metadata": {},
   "outputs": [
    {
     "name": "stdout",
     "output_type": "stream",
     "text": [
      "<!DOCTYPE html><html><head><link rel=\"preload\" href=\"/_next/7ffdce94-4daf-4e97-852f-05645de18263/page/\" as=\"script\"/><link rel=\"preload\" href=\"/_next/7ffdce94-4daf-4e97-852f-05645de18263/page/_error/index.js\" as=\"script\"/><link rel=\"preload\" href=\"/_next/eab4a839cf46ff44670f9bb53f95a198/app.js\" as=\"script\"/><meta charset=\"utf-8\" class=\"next-head\"/><title data-jsx=\"3917026754\" class=\"next-head\">app.titleStartä¸ºä»·å¼ Â· æ´é«æ</title><script data-jsx=\"3917026754\" class=\"next-head\">\n",
      "              !function(N,M){function L(){var a=I.getBoundingClientRect().width;a/F>540&&(a=540*F);var d=a/10;\n"
     ]
    }
   ],
   "source": [
    "import requests\n",
    "url = 'http://aicoin.cn/'\n",
    "\n",
    "headers = {\n",
    "    'authority': 'images.aicoin.cn',\n",
    "    'method': 'GET',\n",
    "    'path': '/px/?url=http://wx3.sinaimg.cn/thumbnail/811f1b66ly1gbthpt70mxj20hs0v6q7a.jpg',\n",
    "    'scheme': 'https',\n",
    "    'accept': 'image/webp,image/apng,image/*,*/*;q=0.8',\n",
    "    'accept-encoding': 'gzip, deflate, br',\n",
    "    'accept-language': 'zh-TW,zh;q=0.9,en-US;q=0.8,en;q=0.7,ja;q=0.6',\n",
    "    'cookie': '_ga=GA1.2.1971551391.1581480441; _gid=GA1.2.1366674752.1581480441; _gat_gtag_UA_108140256_2=1; aicoin_session=eyJpdiI6IkNpamxLV0lLNWJ3VjhxWlFvK0g5XC9nPT0iLCJ2YWx1ZSI6IitqYjh6dGMxY0hKNnFYNkJuWEN5UFVnbFVMdmlaRjNSS2NYRkhXYTdrM1U0TlFTdEZmNFg3VExXc2NTT1paRlV5cWhBUm9Wd3hzbDVpUFFpSExMVzRRPT0iLCJtYWMiOiI4YjI2Mzg4NWJjY2RkZjgyZmU5ZGFkNzlmMjFiNmVmZWNiNGUyNzZkYjNjOWY5YTlmY2M5MDg1OGQzZTU4MjY2In0%3D',\n",
    "    'referer': 'https://www.aicoin.cn/',\n",
    "    'sec-fetch-mode': 'no-cors',\n",
    "    'sec-fetch-site': 'same-site',\n",
    "    'user-agent': 'Mozilla/5.0 (Linux; Android 6.0; Nexus 5 Build/MRA58N) AppleWebKit/537.36 (KHTML, like Gecko) Chrome/79.0.3945.130 Mobile Safari/537.36'}\n",
    "\n",
    "\n",
    "r = requests.get(url, headers=headers)\n",
    "print(r.text[0:600])"
   ]
  },
  {
   "cell_type": "code",
   "execution_count": null,
   "metadata": {},
   "outputs": [],
   "source": []
  }
 ],
 "metadata": {
  "kernelspec": {
   "display_name": "Python 3",
   "language": "python",
   "name": "python3"
  },
  "language_info": {
   "codemirror_mode": {
    "name": "ipython",
    "version": 3
   },
   "file_extension": ".py",
   "mimetype": "text/x-python",
   "name": "python",
   "nbconvert_exporter": "python",
   "pygments_lexer": "ipython3",
   "version": "3.7.4"
  }
 },
 "nbformat": 4,
 "nbformat_minor": 2
}
