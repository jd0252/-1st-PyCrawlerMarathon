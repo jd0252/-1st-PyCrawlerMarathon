#!/usr/bin/env python
# coding: utf-8

# # 利用 Python 存取 API
# 
# 
# * 了解 Server Client 的架構與溝通方法
# * 知道 HTTP Request & Response 的內容
# * 什麼是 API？如何用 Python 程式存取 API 資料
# 

# ## 作業目標
# 
# * 比較一下範例檔案中的「r.text」與「json.loads(r.text)」讀出來的內容有什麼差異
# * 自行尋找一個合適的 API 接口做練習，並且查看其回傳內容
#     * https://cat-fact.herokuapp.com/facts (來源：https://alexwohlbruck.github.io/cat-facts/)
#     * http://odata.wra.gov.tw/v4/RealtimeWaterLevel (來源：https://data.gov.tw/dataset/25768)
# 
# 

# ### 比較一下範例檔案中的「r.text」與「json.loads(r.text)」讀出來的內容有什麼差異

# In[3]:


import requests
import json


# In[6]:



r = requests.get('https://api.github.com/events')
# 兩者長度不同
print('長度:\nr.text:{}, json.loads(r.text):{}'.format(len(r.text), len(json.loads(r.text))))

# 兩者型態不同
print('型態:\nr.text:{}, json.loads(r.text):{}'.format(type(r.text), type(json.loads(r.text))))


# ### 自行尋找一個合適的 API 接口做練習，並且查看其回傳內容
# 
# * https://cat-fact.herokuapp.com/facts (來源：https://alexwohlbruck.github.io/cat-facts/)
# * http://odata.wra.gov.tw/v4/RealtimeWaterLevel (來源：https://data.gov.tw/dataset/25768)
# 

# In[7]:


r = requests.get('https://cat-fact.herokuapp.com/facts')


# In[8]:


# r.text
r.text


# In[ ]:




