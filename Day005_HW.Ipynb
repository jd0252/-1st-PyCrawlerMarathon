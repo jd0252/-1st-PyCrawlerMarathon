#!/usr/bin/env python
# coding: utf-8

# # API 資料串接 - 以 Dcard API 實作範例
# 
# * 了解 Dcard API 使用方式與回傳內容
# * 撰寫程式存取 API 且解析 JSON 格式資料
# 

# ## 作業目標
# 
# * 請利用 API: https://www.dcard.tw/_api/forums/pet/posts?popular=true 回答下列問題：
# 
# 1. 這個 API 一次會回傳幾筆資料？每一筆資料包含哪些欄位？
# 2. 取出每一筆資料的「標題」、「貼文時間」、「留言人數」、「按讚人數」
# 3. 計算熱門/非熱門文章的「平均留言人數」與「平均按讚人數」

# In[1]:


# 1. 這個 API 一次會回傳幾筆資料？每一筆資料包含哪些欄位？
import requests
import json
res = requests.get('https://www.dcard.tw/_api/forums/pet/posts?popular=true')
# json.loads(res.text)
js = json.loads(res.text)

count = 0
for item in js:
    count = count + 1
print(str(count)+'筆')

item = js[0]
for key in item.keys():
    print(key)


# In[2]:


# 2. 取出每一筆資料的「標題」、「貼文時間」、「留言人數」、「按讚人數」

for item in js:
    print('標題:',item['title'],'貼文時間:',item['createdAt'],'留言人數:',item['commentCount'],'按讚人數:',item['likeCount'])


# In[3]:


# 3. 計算熱門/非熱門文章的「平均留言人數」與「平均按讚人數」
res = requests.get('https://www.dcard.tw/_api/forums/pet/posts?popular=false')
# json.loads(res.text)
jsn = json.loads(res.text)
averComm = 0
averLike = 0
for item in js:
    averComm = averComm + int(item['commentCount'])
    averLike = averLike + int(item['likeCount'])
print('熱門平均留言人數:',averComm%30,'熱門平均按讚人數:',averLike%30)
for item in jsn:
    averComm = averComm + int(item['commentCount'])
    averLike = averLike + int(item['likeCount'])
print('非熱門平均留言人數:',averComm%30,'非熱門平均按讚人數:',averLike%30)


# In[ ]:





# In[ ]:




